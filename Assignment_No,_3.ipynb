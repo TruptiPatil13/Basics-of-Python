{
  "nbformat": 4,
  "nbformat_minor": 0,
  "metadata": {
    "colab": {
      "name": "Assignment No, 3",
      "provenance": [],
      "collapsed_sections": []
    },
    "kernelspec": {
      "name": "python3",
      "display_name": "Python 3"
    },
    "language_info": {
      "name": "python"
    }
  },
  "cells": [
    {
      "cell_type": "markdown",
      "source": [
        "Q17] Write a program to calculate the length of a given string. Run the program for string:\n",
        "“Statistics”."
      ],
      "metadata": {
        "id": "kzlq7ihsQJU0"
      }
    },
    {
      "cell_type": "code",
      "execution_count": 4,
      "metadata": {
        "colab": {
          "base_uri": "https://localhost:8080/"
        },
        "id": "mopWpcUdPrw-",
        "outputId": "13f19d2c-a36f-4514-d65d-dec5631dac43"
      },
      "outputs": [
        {
          "output_type": "execute_result",
          "data": {
            "text/plain": [
              "10"
            ]
          },
          "metadata": {},
          "execution_count": 4
        }
      ],
      "source": [
        "def find_length_str(string):\n",
        "    counter=0\n",
        "    if type(string) != str:\n",
        "      print(\"Please enter a string...\")\n",
        "    else:\n",
        "      for s in string:\n",
        "         counter+=1\n",
        "         string+=s\n",
        "      return counter\n",
        "\n",
        "find_length_str('Statistics')"
      ]
    },
    {
      "cell_type": "markdown",
      "source": [
        "Q18]Write a program to check whether a given word is palindrome or not. Run the program for\n",
        "‘MADAM’ and ‘START’"
      ],
      "metadata": {
        "id": "aXELtL41UHc2"
      }
    },
    {
      "cell_type": "code",
      "source": [
        "def check_palindrome(string):\n",
        " length=len(string)\n",
        " first=0\n",
        " last=length-1\n",
        " status=1\n",
        " while(first<last):\n",
        "   if(string[first]==string[last]):\n",
        "     first=first+1\n",
        "     last=last-1\n",
        "   else:\n",
        "     status=0\n",
        "     break\n",
        " return int(status)\n",
        "string=input(\"Enter the string:\")\n",
        "print(\"Method 1\")\n",
        "status=check_palindrome(string)\n",
        "if(status):\n",
        "  print(\"It is a Palindrome\")\n",
        "else:\n",
        "  print(\"Sorry! try again\")\n",
        "\n",
        "\n"
      ],
      "metadata": {
        "colab": {
          "base_uri": "https://localhost:8080/"
        },
        "id": "-PCH9fEJUJ-T",
        "outputId": "bf35f149-eba8-4ceb-e620-34bdf769c86f"
      },
      "execution_count": 8,
      "outputs": [
        {
          "output_type": "stream",
          "name": "stdout",
          "text": [
            "Enter the string:MADAM\n",
            "Method 1\n",
            "It is a Palindrome\n"
          ]
        }
      ]
    },
    {
      "cell_type": "markdown",
      "source": [
        "Q19] Write a program to calculate the frequency distribution of characters in a string:\n",
        "“Statistics”."
      ],
      "metadata": {
        "id": "Amfq8aUczo_x"
      }
    },
    {
      "cell_type": "code",
      "source": [
        "A=input()\n",
        "d={}\n",
        "for i in A:\n",
        "  d[i]=d.get(i,0)+1\n",
        "\n",
        "for k,v in sorted(d.items()):\n",
        "  print(\"{}:{}\".format(k,v))"
      ],
      "metadata": {
        "colab": {
          "base_uri": "https://localhost:8080/"
        },
        "id": "kMCSiOGnzx68",
        "outputId": "2efafa6a-1a2a-447d-da6d-f574492047c9"
      },
      "execution_count": 10,
      "outputs": [
        {
          "output_type": "stream",
          "name": "stdout",
          "text": [
            "Statistics\n",
            "S:1\n",
            "a:1\n",
            "c:1\n",
            "i:2\n",
            "s:2\n",
            "t:3\n"
          ]
        }
      ]
    },
    {
      "cell_type": "markdown",
      "source": [
        "Q20] Write a program to check whether given character is alphabet or not. Run the program for\n",
        "‘b’ and ‘*’."
      ],
      "metadata": {
        "id": "y-Rp4yk75wDL"
      }
    },
    {
      "cell_type": "code",
      "source": [
        "ch=input(\"Please enter your character:\")\n",
        "if((ch>='a' and ch<='z')or(ch>='A' and ch<='Z')):\n",
        "  print(\"The given character\",ch,\"is an alphabet\")\n",
        "else:\n",
        "  print(\"The given character\",ch,\"is not an alphabet\")"
      ],
      "metadata": {
        "colab": {
          "base_uri": "https://localhost:8080/"
        },
        "id": "uTPlTDPG5zIx",
        "outputId": "7822fb8f-6f11-4395-bc5b-df9e3311e2f0"
      },
      "execution_count": 12,
      "outputs": [
        {
          "output_type": "stream",
          "name": "stdout",
          "text": [
            "Please enter your character:*\n",
            "The given character * is not an alphabet\n"
          ]
        }
      ]
    },
    {
      "cell_type": "markdown",
      "source": [
        "Q21] Write a program to identify the smallest word from the list of words and print the smallest\n",
        "word with its length. Run for list of words: Statistics, Stat, Mathematics, Math"
      ],
      "metadata": {
        "id": "BigQFwB-6uyc"
      }
    },
    {
      "cell_type": "code",
      "source": [
        "def get_shortest_name(words):\n",
        "  shortest_word=words[0]\n",
        "  shortest_length=len(shortest_word)\n",
        "  for word in words:\n",
        "    if shortest_length>len(word):\n",
        "      shortest_length=len(word)\n",
        "      shortest_word=word\n",
        "  return shortest_word\n",
        "\n",
        "def test_get_shortest_name():\n",
        "  print(\"1.\",get_shortest_name([\"Statistics\",\"Stat\",\"Mathematics\",\"Math\"]))\n",
        "test_get_shortest_name()"
      ],
      "metadata": {
        "colab": {
          "base_uri": "https://localhost:8080/"
        },
        "id": "_s4ltSQi6xil",
        "outputId": "9328f92c-a925-4bf8-b174-253b44938446"
      },
      "execution_count": 26,
      "outputs": [
        {
          "output_type": "stream",
          "name": "stdout",
          "text": [
            "1. Stat\n"
          ]
        }
      ]
    },
    {
      "cell_type": "markdown",
      "source": [
        "Q22] Write a program to check whether given character is consonant or vowel. Run the\n",
        "program for ‘a’, ‘f’ and ‘man’."
      ],
      "metadata": {
        "id": "iSSlShYMQdSO"
      }
    },
    {
      "cell_type": "code",
      "source": [
        "ch=input(\"Enter a charachter:\")\n",
        "if(ch=='A' or ch=='a' or ch=='E' or ch=='e' or ch=='I' or ch=='i' or ch=='O' or ch=='o' or ch=='U' or ch=='u'):\n",
        "  print(ch,\"is a vowel\")\n",
        "else:\n",
        "  print(ch,\"is a consonant\")"
      ],
      "metadata": {
        "colab": {
          "base_uri": "https://localhost:8080/"
        },
        "id": "bNlDDiA0Qgsh",
        "outputId": "0c1e877b-7222-4830-d621-e036b0d5dd5d"
      },
      "execution_count": 29,
      "outputs": [
        {
          "output_type": "stream",
          "name": "stdout",
          "text": [
            "Enter a charachter:f\n",
            "f is a consonant\n"
          ]
        }
      ]
    },
    {
      "cell_type": "markdown",
      "source": [
        "Q23] Plot the simple line plot for the following data"
      ],
      "metadata": {
        "id": "3xU7C1vQRbx1"
      }
    },
    {
      "cell_type": "code",
      "source": [
        "import matplotlib.pyplot as plt\n",
        "import numpy as np\n",
        "\n",
        "x=np.array([2015,2016,2017,2018,2019,2020])\n",
        "y=np.array([700,1200,900,800,950,1000])\n",
        "plt.plot(x,y)\n",
        "plt.xlabel(\"Year\")\n",
        "plt.ylabel(\"No of Students\")\n",
        "plt.show()"
      ],
      "metadata": {
        "colab": {
          "base_uri": "https://localhost:8080/",
          "height": 279
        },
        "id": "vYY-e8mtRfY0",
        "outputId": "09edd07a-3233-43f1-8a7b-bbc0039592a0"
      },
      "execution_count": 30,
      "outputs": [
        {
          "output_type": "display_data",
          "data": {
            "text/plain": [
              "<Figure size 432x288 with 1 Axes>"
            ],
            "image/png": "[encoded data removed]"
          },
          "metadata": {
            "needs_background": "light"
          }
        }
      ]
    },
    {
      "cell_type": "markdown",
      "source": [
        "Q24] Draw a rod plot for the following data:"
      ],
      "metadata": {
        "id": "NhGMslVwS9oY"
      }
    },
    {
      "cell_type": "code",
      "source": [
        "import numpy as np\n",
        "import matplotlib.pyplot as plt\n",
        "x=[1,2,3,4,5,6]\n",
        "y=[14,22,27,80,93,11]\n",
        "plt.bar(x,y,color='maroon')\n",
        "plt.xlabel(\"X\")\n",
        "plt.ylabel(\"f\")\n",
        "plt.show()"
      ],
      "metadata": {
        "colab": {
          "base_uri": "https://localhost:8080/",
          "height": 279
        },
        "id": "qJHVsbq2TAwY",
        "outputId": "5f8b0640-ef60-4d55-9360-b9cddb25225c"
      },
      "execution_count": 34,
      "outputs": [
        {
          "output_type": "display_data",
          "data": {
            "text/plain": [
              "<Figure size 432x288 with 1 Axes>"
            ],
            "image/png": "[encoded data removed]"
          },
          "metadata": {
            "needs_background": "light"
          }
        }
      ]
    }
  ]
}