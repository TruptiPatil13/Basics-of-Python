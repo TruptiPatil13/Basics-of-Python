{
  "nbformat": 4,
  "nbformat_minor": 0,
  "metadata": {
    "colab": {
      "name": "Assignment No. 2",
      "provenance": [],
      "collapsed_sections": []
    },
    "kernelspec": {
      "name": "python3",
      "display_name": "Python 3"
    },
    "language_info": {
      "name": "python"
    }
  },
  "cells": [
    {
      "cell_type": "markdown",
      "source": [
        "Q1.Write a Python User Define Function to reverse a string"
      ],
      "metadata": {
        "id": "svUEdjgQPI2D"
      }
    },
    {
      "cell_type": "code",
      "execution_count": 3,
      "metadata": {
        "colab": {
          "base_uri": "https://localhost:8080/"
        },
        "id": "4I78c7Y6yFcN",
        "outputId": "eda095cc-d48e-400c-c9ea-bff0bd259d97"
      },
      "outputs": [
        {
          "output_type": "stream",
          "name": "stdout",
          "text": [
            "epahs\n"
          ]
        }
      ],
      "source": [
        "#Solution 1\n",
        "def rev(s):\n",
        "  string=''\n",
        "  for i in s:\n",
        "    string=i+string\n",
        "  return string\n",
        "\n",
        "print(rev('shape'))"
      ]
    },
    {
      "cell_type": "markdown",
      "source": [
        "Q2. Write a Python min_max function which will return Min, Max of 4 inputs from the user."
      ],
      "metadata": {
        "id": "X2bXQlokPQLT"
      }
    },
    {
      "cell_type": "code",
      "source": [
        "#Solution 2\n",
        "def min_max(n): #number of inputs\n",
        "\n",
        "   l=[]\n",
        "   for i in range(0,n):\n",
        "    num=int(input())\n",
        "    l.append(num)\n",
        "\n",
        "   maxi=max(l)\n",
        "   mini=min(l)\n",
        "\n",
        "   return(mini,maxi) #returns the smallest and highest element of the input\n",
        "print(min_max(4))"
      ],
      "metadata": {
        "colab": {
          "base_uri": "https://localhost:8080/"
        },
        "id": "jgP5Cy5JzIDE",
        "outputId": "61a1feb5-7ab5-4aa0-98a6-1860ee617deb"
      },
      "execution_count": 6,
      "outputs": [
        {
          "output_type": "stream",
          "name": "stdout",
          "text": [
            "17\n",
            "34\n",
            "89\n",
            "3\n",
            "(3, 89)\n"
          ]
        }
      ]
    },
    {
      "cell_type": "markdown",
      "source": [
        "Q3. Write a Python function to sum 4 inputs from the user."
      ],
      "metadata": {
        "id": "UrabP6RePUqJ"
      }
    },
    {
      "cell_type": "code",
      "source": [
        "#Solution 3\n",
        "def sum(n):\n",
        "  l=[]\n",
        "  for i in range(0,n):\n",
        "    ele=int(input())\n",
        "    l.append(ele)\n",
        "  sum=0\n",
        "  for i in l:\n",
        "    sum=sum+i\n",
        "\n",
        "  return(sum)\n",
        "print(sum(4))"
      ],
      "metadata": {
        "colab": {
          "base_uri": "https://localhost:8080/"
        },
        "id": "yNjgu5p90E01",
        "outputId": "f76673fe-cb24-4a61-a9d0-5c087bc48604"
      },
      "execution_count": 7,
      "outputs": [
        {
          "output_type": "stream",
          "name": "stdout",
          "text": [
            "1\n",
            "45\n",
            "23\n",
            "9\n",
            "78\n"
          ]
        }
      ]
    },
    {
      "cell_type": "markdown",
      "source": [
        "Q4. Find out the Command which will return you number of local variables from the user define function."
      ],
      "metadata": {
        "id": "zLUY3PsZPZ_X"
      }
    },
    {
      "cell_type": "code",
      "source": [
        "#Solution 4\n",
        "\n",
        "#The command co_nlocals() can be used to find the number of local variables from an user defined function."
      ],
      "metadata": {
        "id": "TmfBYNAr0jmX"
      },
      "execution_count": null,
      "outputs": []
    },
    {
      "cell_type": "markdown",
      "source": [
        "Q5.Write Python Function to get even number from the list. List len must be equal to 8."
      ],
      "metadata": {
        "id": "mqP-nJ7ZPfxE"
      }
    },
    {
      "cell_type": "code",
      "source": [
        "#Solution 5\n",
        "def is_even_num(l):\n",
        "  enum=[]\n",
        "  for n in l:\n",
        "    if n % 2 == 0:\n",
        "      enum.append(n)\n",
        "  return enum\n",
        "print(is_even_num([1,2,3,4,5,6,7,8]))\n",
        "\n"
      ],
      "metadata": {
        "colab": {
          "base_uri": "https://localhost:8080/"
        },
        "id": "eWMPeZft1A4M",
        "outputId": "6d64f5cf-b4d8-4fee-a762-f6f7c596ed92"
      },
      "execution_count": 1,
      "outputs": [
        {
          "output_type": "stream",
          "name": "stdout",
          "text": [
            "[2, 4, 6, 8]\n"
          ]
        }
      ]
    }
  ]
}