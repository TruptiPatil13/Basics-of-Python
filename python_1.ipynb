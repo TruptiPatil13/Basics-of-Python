{
  "nbformat": 4,
  "nbformat_minor": 0,
  "metadata": {
    "colab": {
      "name": "python_1",
      "provenance": []
    },
    "kernelspec": {
      "name": "python3",
      "display_name": "Python 3"
    },
    "language_info": {
      "name": "python"
    }
  },
  "cells": [
    {
      "cell_type": "code",
      "execution_count": 1,
      "metadata": {
        "colab": {
          "base_uri": "https://localhost:8080/"
        },
        "id": "W-NFe7e8QoNp",
        "outputId": "6ff042b0-b9bb-4bf9-8f9f-56550ebb29d9"
      },
      "outputs": [
        {
          "output_type": "stream",
          "name": "stdout",
          "text": [
            "Name : Trupti Pradip Patil\n",
            "City : Pune\n",
            "a= 9124\n",
            "b= 3\n"
          ]
        }
      ],
      "source": [
        "Name=\"Trupti Pradip Patil\"\n",
        "City=\"Pune\"\n",
        "a=9124\n",
        "b=3\n",
        "print(\"Name :\",Name)\n",
        "print(\"City :\",City)\n",
        "print(\"a=\",a)\n",
        "print(\"b=\",b)\n",
        "\n"
      ]
    },
    {
      "cell_type": "code",
      "source": [
        "x,y=123,89\n",
        "print(\"Addition=\",x+y)\n",
        "print(\"Subtraction=\",x-y)\n",
        "print(\"Multiplication=\",x*y)\n",
        "print(\"Division=\",x/y)\n",
        "print(\"Power =\",x**y)\n",
        "print(\"Modulus =\",x%y)\n",
        "print(\"Floor Division=\",x//y)\n"
      ],
      "metadata": {
        "colab": {
          "base_uri": "https://localhost:8080/"
        },
        "id": "VKj8UIiQWkM3",
        "outputId": "e79abc1e-73fb-4b57-de69-566b05e3a532"
      },
      "execution_count": 2,
      "outputs": [
        {
          "output_type": "stream",
          "name": "stdout",
          "text": [
            "Addition= 212\n",
            "Subtraction= 34\n",
            "Multiplication= 10947\n",
            "Division= 1.3820224719101124\n",
            "Power = 1003586748294692444090311449598079554315936784353666236173026355383865504174993958493735203037393914841882125614893395230720046734843405401614374330621599970504515730841581815433180732763\n",
            "Modulus = 34\n",
            "Floor Division= 1\n"
          ]
        }
      ]
    },
    {
      "cell_type": "code",
      "source": [
        ""
      ],
      "metadata": {
        "id": "2GuSfVwIXSW9"
      },
      "execution_count": null,
      "outputs": []
    }
  ]
}