{
  "nbformat": 4,
  "nbformat_minor": 0,
  "metadata": {
    "colab": {
      "name": "Assignment_1.ipynb",
      "provenance": [],
      "collapsed_sections": []
    },
    "kernelspec": {
      "name": "python3",
      "display_name": "Python 3"
    },
    "language_info": {
      "name": "python"
    }
  },
  "cells": [
    {
      "cell_type": "code",
      "execution_count": 9,
      "metadata": {
        "id": "aYM3uYAwmRYh",
        "colab": {
          "base_uri": "https://localhost:8080/"
        },
        "outputId": "c39c83bf-248a-46c1-ebc3-97f3c53378a0"
      },
      "outputs": [
        {
          "output_type": "stream",
          "name": "stdout",
          "text": [
            "Trupti Patil\n",
            "9124\n"
          ]
        }
      ],
      "source": [
        "Name=\"Trupti Patil\"\n",
        "Roll_Number=9124\n",
        "print(Name)\n",
        "print(Roll_Number)"
      ]
    },
    {
      "cell_type": "code",
      "source": [
        "A=[\"Trupti Patil\",\"Age=20\",\"Village=Alibag\"]\n",
        "B=[\"TY BSc Stat\",\"Sir Parashuram Bhau College\",\"Tilak Road\",\"Pune\"]\n",
        "print(type(A))\n",
        "print(type(B))"
      ],
      "metadata": {
        "colab": {
          "base_uri": "https://localhost:8080/"
        },
        "id": "2hdlXd2KDEBk",
        "outputId": "72bb6980-abee-452b-fcb4-0c70f4760d83"
      },
      "execution_count": 10,
      "outputs": [
        {
          "output_type": "stream",
          "name": "stdout",
          "text": [
            "<class 'list'>\n",
            "<class 'list'>\n"
          ]
        }
      ]
    },
    {
      "cell_type": "code",
      "source": [
        "print(A[2])"
      ],
      "metadata": {
        "colab": {
          "base_uri": "https://localhost:8080/"
        },
        "id": "v0oXlrs3FWaF",
        "outputId": "b5016f87-f976-40f7-8723-48b31ef64090"
      },
      "execution_count": 11,
      "outputs": [
        {
          "output_type": "stream",
          "name": "stdout",
          "text": [
            "Village=Alibag\n"
          ]
        }
      ]
    },
    {
      "cell_type": "code",
      "source": [
        "print(A[:3] )\n",
        "print(A[2:])\n",
        "print(A[0:2])\n",
        "print(A[:-1] )"
      ],
      "metadata": {
        "colab": {
          "base_uri": "https://localhost:8080/"
        },
        "id": "AaoKrv-Sjvz5",
        "outputId": "c09b3bab-bf33-4499-a1f2-860feb3dc1f8"
      },
      "execution_count": 12,
      "outputs": [
        {
          "output_type": "stream",
          "name": "stdout",
          "text": [
            "['Trupti Patil', 'Age=20', 'Village=Alibag']\n",
            "['Village=Alibag']\n",
            "['Trupti Patil', 'Age=20']\n",
            "['Trupti Patil', 'Age=20']\n"
          ]
        }
      ]
    },
    {
      "cell_type": "code",
      "source": [
        "A[1]=\"Age=20 yrs\"\n",
        "print(A)"
      ],
      "metadata": {
        "colab": {
          "base_uri": "https://localhost:8080/"
        },
        "id": "HVhVOvgjkbdW",
        "outputId": "7454ec71-70b5-4c78-9cb7-3cd6195e5bbd"
      },
      "execution_count": 13,
      "outputs": [
        {
          "output_type": "stream",
          "name": "stdout",
          "text": [
            "['Trupti Patil', 'Age=20 yrs', 'Village=Alibag']\n"
          ]
        }
      ]
    },
    {
      "cell_type": "code",
      "source": [
        "A.append(\"MH 06\")\n",
        "print(A)"
      ],
      "metadata": {
        "colab": {
          "base_uri": "https://localhost:8080/"
        },
        "id": "aEiFW2KPFjAN",
        "outputId": "7ae1a903-4cb9-44c1-ec05-b165384de1ae"
      },
      "execution_count": 14,
      "outputs": [
        {
          "output_type": "stream",
          "name": "stdout",
          "text": [
            "['Trupti Patil', 'Age=20 yrs', 'Village=Alibag', 'MH 06']\n"
          ]
        }
      ]
    },
    {
      "cell_type": "code",
      "source": [
        "A.extend(\"Student\")\n",
        "print(A)"
      ],
      "metadata": {
        "id": "lOagV-YhHDJP",
        "colab": {
          "base_uri": "https://localhost:8080/"
        },
        "outputId": "397a5cdc-0a19-40f3-bcce-bc89df3badf5"
      },
      "execution_count": 15,
      "outputs": [
        {
          "output_type": "stream",
          "name": "stdout",
          "text": [
            "['Trupti Patil', 'Age=20 yrs', 'Village=Alibag', 'MH 06', 'S', 't', 'u', 'd', 'e', 'n', 't']\n"
          ]
        }
      ]
    },
    {
      "cell_type": "code",
      "source": [
        "x=A.count(\"Trupti Patil\")\n",
        "print(x)"
      ],
      "metadata": {
        "colab": {
          "base_uri": "https://localhost:8080/"
        },
        "id": "-_sCt96yl3Xt",
        "outputId": "0fe31dd2-0f0c-41bc-e1a5-7800baaa06d0"
      },
      "execution_count": 17,
      "outputs": [
        {
          "output_type": "stream",
          "name": "stdout",
          "text": [
            "1\n"
          ]
        }
      ]
    },
    {
      "cell_type": "code",
      "source": [
        "y=A.index(\"Trupti Patil\")\n",
        "print(y)"
      ],
      "metadata": {
        "colab": {
          "base_uri": "https://localhost:8080/"
        },
        "id": "q-P_1JiEnJfj",
        "outputId": "ad662d51-0a2e-4591-ac1b-1d4ed30f4426"
      },
      "execution_count": 19,
      "outputs": [
        {
          "output_type": "stream",
          "name": "stdout",
          "text": [
            "0\n"
          ]
        }
      ]
    },
    {
      "cell_type": "code",
      "source": [
        "print(len(A))"
      ],
      "metadata": {
        "colab": {
          "base_uri": "https://localhost:8080/"
        },
        "id": "pb-MkSOCn64-",
        "outputId": "762f4e8d-ba41-4f05-e1ca-953fc5a0c1b8"
      },
      "execution_count": 20,
      "outputs": [
        {
          "output_type": "stream",
          "name": "stdout",
          "text": [
            "11\n"
          ]
        }
      ]
    },
    {
      "cell_type": "code",
      "source": [
        "A.sort()\n",
        "print(A)"
      ],
      "metadata": {
        "colab": {
          "base_uri": "https://localhost:8080/"
        },
        "id": "PFSTrPstpu6I",
        "outputId": "3ad4c0e9-37f2-45eb-94db-3d5307ea18d4"
      },
      "execution_count": 21,
      "outputs": [
        {
          "output_type": "stream",
          "name": "stdout",
          "text": [
            "['Age=20 yrs', 'MH 06', 'S', 'Trupti Patil', 'Village=Alibag', 'd', 'e', 'n', 't', 't', 'u']\n"
          ]
        }
      ]
    },
    {
      "cell_type": "code",
      "source": [
        "A1=A.copy()\n",
        "print(A1)"
      ],
      "metadata": {
        "id": "_b7A3tGE_R1e",
        "colab": {
          "base_uri": "https://localhost:8080/"
        },
        "outputId": "fa6111d1-897a-483b-99a0-4e3acc3b33ac"
      },
      "execution_count": 22,
      "outputs": [
        {
          "output_type": "stream",
          "name": "stdout",
          "text": [
            "['Age=20 yrs', 'MH 06', 'S', 'Trupti Patil', 'Village=Alibag', 'd', 'e', 'n', 't', 't', 'u']\n"
          ]
        }
      ]
    },
    {
      "cell_type": "code",
      "source": [
        "A1.clear()\n",
        "print(A1)"
      ],
      "metadata": {
        "colab": {
          "base_uri": "https://localhost:8080/"
        },
        "id": "OM48uCTTAd2P",
        "outputId": "75fc89ee-f2b5-4b4c-e0b6-0332f61dcff5"
      },
      "execution_count": 23,
      "outputs": [
        {
          "output_type": "stream",
          "name": "stdout",
          "text": [
            "[]\n"
          ]
        }
      ]
    },
    {
      "cell_type": "code",
      "source": [
        "A2=(\"Trupti Patil\",\"Age=20\",\"Village=Alibag\")\n",
        "B2=(\"TY BSc Stat\",\"Sir Parashuram Bhau College\",\"Tilak Road\",\"Pune\")\n",
        "print(type(A2))\n",
        "print(type(B2))"
      ],
      "metadata": {
        "id": "nf4V73jRAmaR",
        "colab": {
          "base_uri": "https://localhost:8080/"
        },
        "outputId": "f20659cf-7f46-4d23-827e-8cd91b49c07d"
      },
      "execution_count": 25,
      "outputs": [
        {
          "output_type": "stream",
          "name": "stdout",
          "text": [
            "<class 'tuple'>\n",
            "<class 'tuple'>\n"
          ]
        }
      ]
    },
    {
      "cell_type": "code",
      "source": [
        "print(A2[2])"
      ],
      "metadata": {
        "colab": {
          "base_uri": "https://localhost:8080/"
        },
        "id": "JU8mqZZrh4uv",
        "outputId": "40b49bbf-3cac-4d52-ed3f-620cebf870da"
      },
      "execution_count": 26,
      "outputs": [
        {
          "output_type": "stream",
          "name": "stdout",
          "text": [
            "Village=Alibag\n"
          ]
        }
      ]
    },
    {
      "cell_type": "code",
      "source": [
        "print(A2[0])\n",
        "print(A2[2:])\n",
        "print(A2[:3])\n",
        "print(B2[-1])\n",
        "print(B2[-4:])\n",
        "print(B2[:-3])"
      ],
      "metadata": {
        "colab": {
          "base_uri": "https://localhost:8080/"
        },
        "id": "frAVQt90qWrj",
        "outputId": "a3286332-b6ff-4c4d-ebba-e84ffd53f6c1"
      },
      "execution_count": 27,
      "outputs": [
        {
          "output_type": "stream",
          "name": "stdout",
          "text": [
            "Trupti Patil\n",
            "('Village=Alibag',)\n",
            "('Trupti Patil', 'Age=20', 'Village=Alibag')\n",
            "Pune\n",
            "('TY BSc Stat', 'Sir Parashuram Bhau College', 'Tilak Road', 'Pune')\n",
            "('TY BSc Stat',)\n"
          ]
        }
      ]
    },
    {
      "cell_type": "code",
      "source": [
        "if \"Trupti Patil\" in A2:\n",
        "    print(\"Trupti Patil is listed in A2\")\n",
        "print('Trupti Patil' in A2)"
      ],
      "metadata": {
        "colab": {
          "base_uri": "https://localhost:8080/"
        },
        "id": "-VbDtKK3rQ_L",
        "outputId": "4b5206be-79ac-4495-f0cb-b066ee2e2743"
      },
      "execution_count": 28,
      "outputs": [
        {
          "output_type": "stream",
          "name": "stdout",
          "text": [
            "Trupti Patil is listed in A2\n",
            "True\n"
          ]
        }
      ]
    },
    {
      "cell_type": "code",
      "source": [
        "x=A2.count(\"Trupti Patil\")\n",
        "print(x)"
      ],
      "metadata": {
        "colab": {
          "base_uri": "https://localhost:8080/"
        },
        "id": "NYIo9rKDr9b5",
        "outputId": "4a8ddc66-f446-4576-99a4-dee2b71c4781"
      },
      "execution_count": 29,
      "outputs": [
        {
          "output_type": "stream",
          "name": "stdout",
          "text": [
            "1\n"
          ]
        }
      ]
    },
    {
      "cell_type": "code",
      "source": [
        "y=A2.index(\"Trupti Patil\")\n",
        "print(y)"
      ],
      "metadata": {
        "colab": {
          "base_uri": "https://localhost:8080/"
        },
        "id": "4fmQ6zt6sPOf",
        "outputId": "1bdfbc9a-6418-40c6-b795-8e1749647fa5"
      },
      "execution_count": 30,
      "outputs": [
        {
          "output_type": "stream",
          "name": "stdout",
          "text": [
            "0\n"
          ]
        }
      ]
    },
    {
      "cell_type": "code",
      "source": [
        "A1=A2.copy()\n",
        "print(A1)"
      ],
      "metadata": {
        "colab": {
          "base_uri": "https://localhost:8080/",
          "height": 183
        },
        "id": "I3X5Bu50sei3",
        "outputId": "37968bb2-2735-47fd-8d97-b03ead060e0c"
      },
      "execution_count": 31,
      "outputs": [
        {
          "output_type": "error",
          "ename": "AttributeError",
          "evalue": "ignored",
          "traceback": [
            "\u001b[0;31m---------------------------------------------------------------------------\u001b[0m",
            "\u001b[0;31mAttributeError\u001b[0m                            Traceback (most recent call last)",
            "\u001b[0;32m<ipython-input-31-603fb14baeb0>\u001b[0m in \u001b[0;36m<module>\u001b[0;34m()\u001b[0m\n\u001b[0;32m----> 1\u001b[0;31m \u001b[0mA1\u001b[0m\u001b[0;34m=\u001b[0m\u001b[0mA2\u001b[0m\u001b[0;34m.\u001b[0m\u001b[0mcopy\u001b[0m\u001b[0;34m(\u001b[0m\u001b[0;34m)\u001b[0m\u001b[0;34m\u001b[0m\u001b[0;34m\u001b[0m\u001b[0m\n\u001b[0m\u001b[1;32m      2\u001b[0m \u001b[0mprint\u001b[0m\u001b[0;34m(\u001b[0m\u001b[0mA1\u001b[0m\u001b[0;34m)\u001b[0m\u001b[0;34m\u001b[0m\u001b[0;34m\u001b[0m\u001b[0m\n",
            "\u001b[0;31mAttributeError\u001b[0m: 'tuple' object has no attribute 'copy'"
          ]
        }
      ]
    },
    {
      "cell_type": "code",
      "source": [
        "A2.append(\"MH 11\")\n",
        "print(A2)"
      ],
      "metadata": {
        "colab": {
          "base_uri": "https://localhost:8080/",
          "height": 183
        },
        "id": "uhuRW3-KiGD7",
        "outputId": "5beadceb-63dd-4fca-ec51-44c22c6e3ac4"
      },
      "execution_count": 32,
      "outputs": [
        {
          "output_type": "error",
          "ename": "AttributeError",
          "evalue": "ignored",
          "traceback": [
            "\u001b[0;31m---------------------------------------------------------------------------\u001b[0m",
            "\u001b[0;31mAttributeError\u001b[0m                            Traceback (most recent call last)",
            "\u001b[0;32m<ipython-input-32-d05d0c357dc6>\u001b[0m in \u001b[0;36m<module>\u001b[0;34m()\u001b[0m\n\u001b[0;32m----> 1\u001b[0;31m \u001b[0mA2\u001b[0m\u001b[0;34m.\u001b[0m\u001b[0mappend\u001b[0m\u001b[0;34m(\u001b[0m\u001b[0;34m\"MH 11\"\u001b[0m\u001b[0;34m)\u001b[0m\u001b[0;34m\u001b[0m\u001b[0;34m\u001b[0m\u001b[0m\n\u001b[0m\u001b[1;32m      2\u001b[0m \u001b[0mprint\u001b[0m\u001b[0;34m(\u001b[0m\u001b[0mA2\u001b[0m\u001b[0;34m)\u001b[0m\u001b[0;34m\u001b[0m\u001b[0;34m\u001b[0m\u001b[0m\n",
            "\u001b[0;31mAttributeError\u001b[0m: 'tuple' object has no attribute 'append'"
          ]
        }
      ]
    }
  ]
}