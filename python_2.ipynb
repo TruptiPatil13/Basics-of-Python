{
  "nbformat": 4,
  "nbformat_minor": 0,
  "metadata": {
    "colab": {
      "name": "python_2",
      "provenance": []
    },
    "kernelspec": {
      "name": "python3",
      "display_name": "Python 3"
    },
    "language_info": {
      "name": "python"
    }
  },
  "cells": [
    {
      "cell_type": "code",
      "execution_count": 2,
      "metadata": {
        "colab": {
          "base_uri": "https://localhost:8080/",
          "height": 35
        },
        "id": "_JAmhKPTcARo",
        "outputId": "803f0c2f-6967-483b-aeae-724bebe27e4f"
      },
      "outputs": [
        {
          "output_type": "execute_result",
          "data": {
            "text/plain": [
              "'Trupti Patil'"
            ],
            "application/vnd.google.colaboratory.intrinsic+json": {
              "type": "string"
            }
          },
          "metadata": {},
          "execution_count": 2
        }
      ],
      "source": [
        "Name=\"Trupti\"\n",
        "Sirname=\"Patil\"\n",
        "Name+\" \"+Sirname"
      ]
    },
    {
      "cell_type": "code",
      "source": [
        "a=2.3\n",
        "b=312\n",
        "c=3j\n",
        "print(int(a))\n",
        "print(float(b))\n",
        "print(complex(a))\n",
        "print(complex(b))"
      ],
      "metadata": {
        "colab": {
          "base_uri": "https://localhost:8080/"
        },
        "id": "KYR1HyXzclPU",
        "outputId": "6f740eae-08d9-4ecd-98f6-3e8c1dd40e3a"
      },
      "execution_count": 6,
      "outputs": [
        {
          "output_type": "stream",
          "name": "stdout",
          "text": [
            "2\n",
            "312.0\n",
            "(2.3+0j)\n",
            "(312+0j)\n"
          ]
        }
      ]
    },
    {
      "cell_type": "code",
      "source": [
        "name=input()\n",
        "age=input()\n",
        "Class=input()\n",
        "clg=input()\n",
        "\"My name is {} and I'm {} years old. I study in class {} in {}\".format(name,age,Class,clg)"
      ],
      "metadata": {
        "colab": {
          "base_uri": "https://localhost:8080/",
          "height": 105
        },
        "id": "Hqvg-fMEfp1f",
        "outputId": "db427664-9de6-472e-9a85-efe66f68bd8a"
      },
      "execution_count": 9,
      "outputs": [
        {
          "name": "stdout",
          "output_type": "stream",
          "text": [
            "Trupti\n",
            "20\n",
            "TYBSc\n",
            "SP College\n"
          ]
        },
        {
          "output_type": "execute_result",
          "data": {
            "text/plain": [
              "\"My name is Trupti and I'm 20 years old. I study in class TYBSc in SP College\""
            ],
            "application/vnd.google.colaboratory.intrinsic+json": {
              "type": "string"
            }
          },
          "metadata": {},
          "execution_count": 9
        }
      ]
    },
    {
      "cell_type": "code",
      "source": [
        "quantity=3\n",
        "item=\"Bread\"\n",
        "price=5\n",
        "country=\"indian\"\n",
        "myorder=\"I want {a} pieces of {b} for {c} rupees. Rupees is {d} currency\"\n",
        "print(myorder.format(b=item,c=price,a=quantity,d=country))\n"
      ],
      "metadata": {
        "colab": {
          "base_uri": "https://localhost:8080/"
        },
        "id": "uIEcOYfGmXCe",
        "outputId": "e8cba574-4156-4c45-c40f-6f2b648754af"
      },
      "execution_count": 12,
      "outputs": [
        {
          "output_type": "stream",
          "name": "stdout",
          "text": [
            "I want 3 pieces of Bread for 5 rupees. Rupees is indian currency\n"
          ]
        }
      ]
    }
  ]
}